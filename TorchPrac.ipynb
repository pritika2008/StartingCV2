{
  "nbformat": 4,
  "nbformat_minor": 0,
  "metadata": {
    "colab": {
      "provenance": []
    },
    "kernelspec": {
      "name": "python3",
      "display_name": "Python 3"
    },
    "language_info": {
      "name": "python"
    }
  },
  "cells": [
    {
      "cell_type": "code",
      "execution_count": null,
      "metadata": {
        "id": "6Ybv0QnBtXOk"
      },
      "outputs": [],
      "source": [
        "import torch\n",
        "from torch import nn\n",
        "import matplotlib.pyplot as plt\n",
        "import torchvision\n",
        "import cv2\n",
        "from torchvision import datasets\n",
        "from torchvision.transforms import ToTensor"
      ]
    },
    {
      "cell_type": "markdown",
      "source": [
        "im going to use the FashionMNIST dataset from torch for this practice"
      ],
      "metadata": {
        "id": "B-_B3fuGw-J1"
      }
    },
    {
      "cell_type": "code",
      "source": [
        "#split\n",
        "\n",
        "train_data = datasets.FashionMNIST(\n",
        "    root=\"data\",\n",
        "    train=True,\n",
        "    download=True,\n",
        "    transform=ToTensor(), # images come as PIL format, turning into tensor\n",
        "    target_transform=None\n",
        ")\n",
        "\n",
        "test_data = datasets.FashionMNIST(\n",
        "    root=\"data\",\n",
        "    train=False,\n",
        "    download=True,\n",
        "    transform=ToTensor()\n",
        ")"
      ],
      "metadata": {
        "id": "rD5AJFMjxKch",
        "colab": {
          "base_uri": "https://localhost:8080/"
        },
        "outputId": "fb066fe5-9bb6-4246-98d2-c42e08ff5248"
      },
      "execution_count": null,
      "outputs": [
        {
          "output_type": "stream",
          "name": "stdout",
          "text": [
            "Downloading http://fashion-mnist.s3-website.eu-central-1.amazonaws.com/train-images-idx3-ubyte.gz\n",
            "Downloading http://fashion-mnist.s3-website.eu-central-1.amazonaws.com/train-images-idx3-ubyte.gz to data/FashionMNIST/raw/train-images-idx3-ubyte.gz\n"
          ]
        },
        {
          "output_type": "stream",
          "name": "stderr",
          "text": [
            "100%|██████████| 26.4M/26.4M [00:01<00:00, 17.2MB/s]\n"
          ]
        },
        {
          "output_type": "stream",
          "name": "stdout",
          "text": [
            "Extracting data/FashionMNIST/raw/train-images-idx3-ubyte.gz to data/FashionMNIST/raw\n",
            "\n",
            "Downloading http://fashion-mnist.s3-website.eu-central-1.amazonaws.com/train-labels-idx1-ubyte.gz\n",
            "Downloading http://fashion-mnist.s3-website.eu-central-1.amazonaws.com/train-labels-idx1-ubyte.gz to data/FashionMNIST/raw/train-labels-idx1-ubyte.gz\n"
          ]
        },
        {
          "output_type": "stream",
          "name": "stderr",
          "text": [
            "100%|██████████| 29.5k/29.5k [00:00<00:00, 306kB/s]\n"
          ]
        },
        {
          "output_type": "stream",
          "name": "stdout",
          "text": [
            "Extracting data/FashionMNIST/raw/train-labels-idx1-ubyte.gz to data/FashionMNIST/raw\n",
            "\n",
            "Downloading http://fashion-mnist.s3-website.eu-central-1.amazonaws.com/t10k-images-idx3-ubyte.gz\n",
            "Downloading http://fashion-mnist.s3-website.eu-central-1.amazonaws.com/t10k-images-idx3-ubyte.gz to data/FashionMNIST/raw/t10k-images-idx3-ubyte.gz\n"
          ]
        },
        {
          "output_type": "stream",
          "name": "stderr",
          "text": [
            "100%|██████████| 4.42M/4.42M [00:00<00:00, 5.51MB/s]\n"
          ]
        },
        {
          "output_type": "stream",
          "name": "stdout",
          "text": [
            "Extracting data/FashionMNIST/raw/t10k-images-idx3-ubyte.gz to data/FashionMNIST/raw\n",
            "\n",
            "Downloading http://fashion-mnist.s3-website.eu-central-1.amazonaws.com/t10k-labels-idx1-ubyte.gz\n",
            "Downloading http://fashion-mnist.s3-website.eu-central-1.amazonaws.com/t10k-labels-idx1-ubyte.gz to data/FashionMNIST/raw/t10k-labels-idx1-ubyte.gz\n"
          ]
        },
        {
          "output_type": "stream",
          "name": "stderr",
          "text": [
            "100%|██████████| 5.15k/5.15k [00:00<00:00, 7.88MB/s]"
          ]
        },
        {
          "output_type": "stream",
          "name": "stdout",
          "text": [
            "Extracting data/FashionMNIST/raw/t10k-labels-idx1-ubyte.gz to data/FashionMNIST/raw\n",
            "\n"
          ]
        },
        {
          "output_type": "stream",
          "name": "stderr",
          "text": [
            "\n"
          ]
        }
      ]
    },
    {
      "cell_type": "code",
      "source": [
        "image, label = train_data[0]\n",
        "image.shape #[1, 28, 28], meaning greyscale"
      ],
      "metadata": {
        "colab": {
          "base_uri": "https://localhost:8080/"
        },
        "id": "P9j2UNw_-oZa",
        "outputId": "ab05c10d-1560-49f2-ceb7-69d4784e84f9"
      },
      "execution_count": null,
      "outputs": [
        {
          "output_type": "execute_result",
          "data": {
            "text/plain": [
              "torch.Size([1, 28, 28])"
            ]
          },
          "metadata": {},
          "execution_count": 3
        }
      ]
    },
    {
      "cell_type": "code",
      "source": [
        "#find labels\n",
        "types = train_data.classes\n",
        "for x in range(len(types)):\n",
        "  print(str(x) + \" : \" + types[x])"
      ],
      "metadata": {
        "colab": {
          "base_uri": "https://localhost:8080/"
        },
        "id": "cIzQLLrD-0Eg",
        "outputId": "249a16b7-ca45-4355-886f-8bd341288d2c"
      },
      "execution_count": null,
      "outputs": [
        {
          "output_type": "stream",
          "name": "stdout",
          "text": [
            "0 : T-shirt/top\n",
            "1 : Trouser\n",
            "2 : Pullover\n",
            "3 : Dress\n",
            "4 : Coat\n",
            "5 : Sandal\n",
            "6 : Shirt\n",
            "7 : Sneaker\n",
            "8 : Bag\n",
            "9 : Ankle boot\n"
          ]
        }
      ]
    },
    {
      "cell_type": "code",
      "source": [
        "plt.imshow(image.squeeze()) #rmber rid of empty\n",
        "plt.title(label)\n",
        "print(types[label])"
      ],
      "metadata": {
        "colab": {
          "base_uri": "https://localhost:8080/",
          "height": 469
        },
        "id": "UyNiDTo-FwYd",
        "outputId": "90da9e8e-0758-4d50-9e6f-d5de7e6ca412"
      },
      "execution_count": null,
      "outputs": [
        {
          "output_type": "stream",
          "name": "stdout",
          "text": [
            "Ankle boot\n"
          ]
        },
        {
          "output_type": "display_data",
          "data": {
            "text/plain": [
              "<Figure size 640x480 with 1 Axes>"
            ],
            "image/png": "[encoded data removed]"
          },
          "metadata": {}
        }
      ]
    },
    {
      "cell_type": "code",
      "source": [
        "#now into data loading, hmmm kinda conects to ap stat unit 5 (♥O♥ )\n",
        "#could batches be like the sample size? -\n",
        "#YES IT ISSSS< OMGGG HOW MANY SAMPLES PER BATCH RIGHHTTTTT SO THIS IS USED< AND ESPECIALLY IN THE GRADIENT DESCENT\n",
        "#ohhhhh and than normalization is where it can use that statagy to scale down a non normal distribution\n",
        "#while standardization is for those that are already normalized ooooo this is coollllll\n",
        "from torch.utils.data import DataLoader\n",
        "bs = 32 #(normal size) - rmbr what stat teacher said: usually the sample size has to be greater than 30 otherwise it is not considered individual\n",
        "\n",
        "train_dataloader = DataLoader(train_data,\n",
        "    batch_size=bs,\n",
        "    shuffle=True\n",
        ")\n",
        "test_dataloader = DataLoader(test_data,\n",
        "    batch_size=bs,\n",
        "    shuffle=False # don't need to shuffle the testing data\n",
        ")\n"
      ],
      "metadata": {
        "id": "h67UjzZyHvHK"
      },
      "execution_count": null,
      "outputs": []
    },
    {
      "cell_type": "code",
      "source": [
        "model = nn.Sequential(\n",
        "    nn.Flatten(), #turns to vector, input = (28*28)\n",
        "    nn.Linear(in_features=784, out_features = 20), #input\n",
        "    nn.ReLU(),\n",
        "    nn.Linear(in_features=20, out_features = 15),\n",
        "    nn.ReLU(),#would the activation function relu be best for this??\n",
        "    nn.Linear(in_features=15, out_features = 10),\n",
        "    nn.Sigmoid(),\n",
        "    nn.Linear(in_features= 10, out_features=len(types))\n",
        "\n",
        ")"
      ],
      "metadata": {
        "id": "Qw-yspOLRB0p"
      },
      "execution_count": null,
      "outputs": []
    },
    {
      "cell_type": "code",
      "source": [
        "from google.colab import drive\n",
        "drive.mount('/content/drive')"
      ],
      "metadata": {
        "id": "YNMj7dSg2nL_"
      },
      "execution_count": null,
      "outputs": []
    },
    {
      "cell_type": "code",
      "source": [
        "def accuracy_fn(y_true, y_pred):\n",
        "    correct = (y_true == y_pred).sum().item()  # Count correctly classified samples\n",
        "    total = y_true.size(0)  # Total number of samples\n",
        "    return correct / total * 100\n",
        "#get loss function and optimizer\n",
        "loss = nn.CrossEntropyLoss() #how is this the right fit?\n",
        "opt = torch.optim.SGD(params = model.parameters(), lr = 0.1) #THE GRADIENT DECENT MR SCHEPENS TAUGHTTTTTTTT YASSSS\n",
        "#(lr) is the learning rate, which is a hyperparameter that controls the size of the steps the model takes during gradient descent.\n",
        "epochs = 10\n",
        "for epoch in range(epochs):\n",
        "  print(\"epoch \" + str(epoch))\n",
        "  train_loss = 0\n",
        "  for batch, (X, y) in enumerate(train_dataloader):\n",
        "    model.train()\n",
        "    preds = model(X)\n",
        "    oneloss = loss(preds, y)\n",
        "    train_loss += oneloss\n",
        "\n",
        "    opt.zero_grad()  # Reset gradients\n",
        "    oneloss.backward()  # Backpropagation :D\n",
        "    opt.step()  # Update weights\n",
        "    if batch % 400 == 0:\n",
        "      print(f\"Looked at {batch * len(X)}/{len(train_dataloader.dataset)} samples\")\n",
        "\n",
        "  train_loss /= len(train_dataloader)\n",
        "  test_loss, test_acc = 0, 0\n",
        "  model.eval()\n",
        "\n",
        "  with torch.inference_mode():\n",
        "    for X, y in test_dataloader:\n",
        "      test_pred = model(X)\n",
        "      test_loss += loss(test_pred, y)\n",
        "      test_acc += accuracy_fn(y_true=y, y_pred=test_pred.argmax(dim=1))\n",
        "\n",
        "    test_loss /= len(test_dataloader)\n",
        "    test_acc /= len(test_dataloader)\n",
        "    print(f\"\\nTrain loss: {train_loss:.5f} | Test loss: {test_loss:.5f}, Test acc: {test_acc:.2f}%\\n\")\n"
      ],
      "metadata": {
        "id": "P8-hD3O4Tq-a",
        "colab": {
          "base_uri": "https://localhost:8080/"
        },
        "outputId": "5cdd35f5-fb1b-426b-f2af-f2244c7dfa7f"
      },
      "execution_count": null,
      "outputs": [
        {
          "output_type": "stream",
          "name": "stdout",
          "text": [
            "epoch 0\n",
            "Looked at 0/60000 samples\n",
            "Looked at 12800/60000 samples\n",
            "Looked at 25600/60000 samples\n",
            "Looked at 38400/60000 samples\n",
            "Looked at 51200/60000 samples\n",
            "\n",
            "Train loss: 0.46928 | Test loss: 0.51683, Test acc: 81.78%\n",
            "\n",
            "epoch 1\n",
            "Looked at 0/60000 samples\n",
            "Looked at 12800/60000 samples\n",
            "Looked at 25600/60000 samples\n",
            "Looked at 38400/60000 samples\n",
            "Looked at 51200/60000 samples\n",
            "\n",
            "Train loss: 0.43412 | Test loss: 0.45970, Test acc: 84.15%\n",
            "\n",
            "epoch 2\n",
            "Looked at 0/60000 samples\n",
            "Looked at 12800/60000 samples\n",
            "Looked at 25600/60000 samples\n",
            "Looked at 38400/60000 samples\n",
            "Looked at 51200/60000 samples\n",
            "\n",
            "Train loss: 0.40921 | Test loss: 0.43761, Test acc: 85.12%\n",
            "\n",
            "epoch 3\n",
            "Looked at 0/60000 samples\n",
            "Looked at 12800/60000 samples\n",
            "Looked at 25600/60000 samples\n",
            "Looked at 38400/60000 samples\n",
            "Looked at 51200/60000 samples\n",
            "\n",
            "Train loss: 0.39217 | Test loss: 0.41856, Test acc: 85.57%\n",
            "\n",
            "epoch 4\n",
            "Looked at 0/60000 samples\n",
            "Looked at 12800/60000 samples\n",
            "Looked at 25600/60000 samples\n",
            "Looked at 38400/60000 samples\n",
            "Looked at 51200/60000 samples\n",
            "\n",
            "Train loss: 0.37951 | Test loss: 0.43825, Test acc: 84.65%\n",
            "\n",
            "epoch 5\n",
            "Looked at 0/60000 samples\n",
            "Looked at 12800/60000 samples\n",
            "Looked at 25600/60000 samples\n",
            "Looked at 38400/60000 samples\n",
            "Looked at 51200/60000 samples\n",
            "\n",
            "Train loss: 0.36844 | Test loss: 0.40623, Test acc: 85.83%\n",
            "\n",
            "epoch 6\n",
            "Looked at 0/60000 samples\n",
            "Looked at 12800/60000 samples\n",
            "Looked at 25600/60000 samples\n",
            "Looked at 38400/60000 samples\n",
            "Looked at 51200/60000 samples\n"
          ]
        },
        {
          "output_type": "stream",
          "name": "stderr",
          "text": [
            "\n",
            "KeyboardInterrupt\n",
            "\n"
          ]
        }
      ]
    }
  ]
}