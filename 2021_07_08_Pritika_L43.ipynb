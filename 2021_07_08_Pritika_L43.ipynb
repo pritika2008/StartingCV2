{
  "nbformat": 4,
  "nbformat_minor": 0,
  "metadata": {
    "colab": {
      "provenance": []
    },
    "kernelspec": {
      "name": "python3",
      "display_name": "Python 3"
    }
  },
  "cells": [
    {
      "cell_type": "markdown",
      "metadata": {
        "id": "z75TncAdaPi8"
      },
      "source": [
        "# Lesson 43: Air Quality Analysis - Bivariate Bar Plots"
      ]
    },
    {
      "cell_type": "markdown",
      "metadata": {
        "id": "Wrq9E4BMmOHe"
      },
      "source": [
        "### Teacher-Student Activities\n",
        "\n",
        "In this class, we will learn to create bar plots to visualise and summarise data.\n",
        "\n",
        "Let's quickly run the codes covered in the previous classes and begin this class from the **Activity 1** section."
      ]
    },
    {
      "cell_type": "markdown",
      "metadata": {
        "id": "rNInzRB3Zc5W"
      },
      "source": [
        "---"
      ]
    },
    {
      "cell_type": "markdown",
      "metadata": {
        "id": "K6mV_YtknKNB"
      },
      "source": [
        "### Recap\n",
        "\n",
        "Run the code cell below to load the dataset and apply the operations on the DataFrame that were covered in the previous classes."
      ]
    },
    {
      "cell_type": "code",
      "metadata": {
        "id": "wNOjV6SAaMNK",
        "colab": {
          "base_uri": "https://localhost:8080/"
        },
        "outputId": "752468f5-1028-4836-c2be-343ffa6fb7e7"
      },
      "source": [
        "# Run the code cell.\n",
        "import numpy as np\n",
        "import pandas as pd\n",
        "import matplotlib.pyplot as plt\n",
        "import seaborn as sns\n",
        "\n",
        "import warnings\n",
        "warnings.filterwarnings('ignore')\n",
        "\n",
        "# Loading the dataset.\n",
        "csv_file = 'https://student-datasets-bucket.s3.ap-south-1.amazonaws.com/whitehat-ds-datasets/air-quality/AirQualityUCI.csv'\n",
        "df = pd.read_csv(csv_file, sep=';')\n",
        "\n",
        "# Dropping the 'Unnamed: 15' & 'Unnamed: 16' columns.\n",
        "df = df.drop(columns=['Unnamed: 15', 'Unnamed: 16'], axis=1)\n",
        "\n",
        "# Dropping the null values.\n",
        "df = df.dropna()\n",
        "\n",
        "# Creating a Pandas series containing 'datetime' objects.\n",
        "dt_series = pd.Series(data = [item.split(\"/\")[2] + \"-\" + item.split(\"/\")[1] + \"-\" + item.split(\"/\")[0] for item in df['Date']], index=df.index) + ' ' + pd.Series(data=[str(item).replace(\".\", \":\") for item in df['Time']], index=df.index)\n",
        "dt_series = pd.to_datetime(dt_series)\n",
        "\n",
        "# Remove the Date & Time columns from the DataFrame and insert the 'dt_series' in it.\n",
        "df = df.drop(columns=['Date', 'Time'], axis=1)\n",
        "df.insert(loc=0, column='DateTime', value=dt_series)\n",
        "\n",
        "# Get the Pandas series containing the year values as integers.\n",
        "year_series = dt_series.dt.year\n",
        "\n",
        "# Get the Pandas series containing the month values as integers.\n",
        "month_series = dt_series.dt.month\n",
        "\n",
        "# Get the Pandas series containing the day values as integers.\n",
        "day_series = dt_series.dt.day\n",
        "\n",
        "# Get the Pandas series containing the days of a week, i.e., Monday, Tuesday, Wednesday etc.\n",
        "day_name_series = dt_series.dt.day_name()\n",
        "\n",
        "# Add the 'Year', 'Month', 'Day' and 'Day Name' columns to the DataFrame.\n",
        "df['Year'] = year_series\n",
        "df['Month'] = month_series\n",
        "df['Day'] = day_series\n",
        "df['Day Name'] = day_name_series\n",
        "\n",
        "# Sort the DataFrame by the 'DateTime' values in the ascending order. Also, display the first 10 rows of the DataFrame.\n",
        "df = df.sort_values(by='DateTime')\n",
        "\n",
        "# Create a function to replace the commas with periods in a Pandas series.\n",
        "def comma_to_period(series):\n",
        "    new_series = pd.Series(data=[float(str(item).replace(',', '.')) for item in series], index=df.index)\n",
        "    return new_series\n",
        "\n",
        "# Apply the 'comma_to_period()' function on the ''CO(GT)', 'C6H6(GT)', 'T', 'RH' and 'AH' columns.\n",
        "cols_to_correct = ['CO(GT)', 'C6H6(GT)', 'T', 'RH', 'AH'] # Create a list of column names.\n",
        "for col in cols_to_correct: # Iterate through each column\n",
        "    df[col] = comma_to_period(df[col]) # Replace the original column with the new series.\n",
        "\n",
        "# Remove all the columns from the 'df' DataFrame containing more than 10% garbage value.\n",
        "df = df.drop(columns=['NMHC(GT)', 'CO(GT)', 'NOx(GT)', 'NO2(GT)'], axis=1)\n",
        "\n",
        "# Create a new DataFrame containing records for the years 2004 and 2005.\n",
        "aq_2004_df = df[df['Year'] == 2004]\n",
        "aq_2005_df = df[df['Year'] == 2005]\n",
        "\n",
        "# Replace the -200 value with the median values for each column having indices between 1 and -4 (excluding -4) for the 2004 year DataFrame.\n",
        "for col in aq_2004_df.columns[1:-4]:\n",
        "  median = aq_2004_df.loc[aq_2004_df[col] != -200, col].median()\n",
        "  aq_2004_df[col] = aq_2004_df[col].replace(to_replace=-200, value=median)\n",
        "\n",
        "# Repeat the same exercise for the 2005 year DataFrame.\n",
        "for col in aq_2005_df.columns[1:-4]:\n",
        "  median = aq_2005_df.loc[aq_2005_df[col] != -200, col].median()\n",
        "  aq_2005_df[col] = aq_2005_df[col].replace(to_replace=-200, value=median)\n",
        "\n",
        "# Group the DataFrames about the 'Month' column.\n",
        "group_2004_month = aq_2004_df.groupby(by='Month')\n",
        "group_2005_month = aq_2005_df.groupby(by='Month')\n",
        "\n",
        "# Concatenate the two DataFrames for 2004 and 2005 to obtain one DataFrame.\n",
        "df = pd.concat([aq_2004_df, aq_2005_df])\n",
        "\n",
        "# Information of the DataFrame.\n",
        "df.info()"
      ],
      "execution_count": null,
      "outputs": [
        {
          "output_type": "stream",
          "text": [
            "<class 'pandas.core.frame.DataFrame'>\n",
            "Int64Index: 9357 entries, 0 to 9356\n",
            "Data columns (total 14 columns):\n",
            " #   Column         Non-Null Count  Dtype         \n",
            "---  ------         --------------  -----         \n",
            " 0   DateTime       9357 non-null   datetime64[ns]\n",
            " 1   PT08.S1(CO)    9357 non-null   float64       \n",
            " 2   C6H6(GT)       9357 non-null   float64       \n",
            " 3   PT08.S2(NMHC)  9357 non-null   float64       \n",
            " 4   PT08.S3(NOx)   9357 non-null   float64       \n",
            " 5   PT08.S4(NO2)   9357 non-null   float64       \n",
            " 6   PT08.S5(O3)    9357 non-null   float64       \n",
            " 7   T              9357 non-null   float64       \n",
            " 8   RH             9357 non-null   float64       \n",
            " 9   AH             9357 non-null   float64       \n",
            " 10  Year           9357 non-null   int64         \n",
            " 11  Month          9357 non-null   int64         \n",
            " 12  Day            9357 non-null   int64         \n",
            " 13  Day Name       9357 non-null   object        \n",
            "dtypes: datetime64[ns](1), float64(9), int64(3), object(1)\n",
            "memory usage: 1.1+ MB\n"
          ],
          "name": "stdout"
        }
      ]
    },
    {
      "cell_type": "markdown",
      "metadata": {
        "id": "5RQU1Hj6ZhvA"
      },
      "source": [
        "The description for all the columns containing data for air pollutants, temperature, relative humidity and absolute humidity is provided below.\n",
        "\n",
        "\n",
        "|Columns|Description|\n",
        "|-|-|\n",
        "|PT08.S1(CO)|PT08.S1 (tin oxide) hourly averaged sensor response (nominally $\\text{CO}$ targeted)|\n",
        "|C6H6(GT)|True hourly averaged Benzene concentration in $\\frac{\\mu g}{m^3}$|\n",
        "|PT08.S2(NMHC)|PT08.S2 (titania) hourly averaged sensor response (nominally $\\text{NMHC}$ targeted)|\n",
        "|PT08.S3(NOx)|PT08.S3 (tungsten oxide) hourly averaged sensor response (nominally NOx targeted)|\n",
        "|PT08.S4(NO2)|PT08.S4 (tungsten oxide) hourly averaged sensor response (nominally $\\text{NO}_x$ targeted)|\n",
        "|PT08.S5(O3) |PT08.S5 (indium oxide) hourly averaged sensor response (nominally $\\text{O}_3$ targeted)|\n",
        "|T|Temperature in Â°C|\n",
        "|RH|Relative Humidity (%)|\n",
        "|AH|AH Absolute Humidity|"
      ]
    },
    {
      "cell_type": "markdown",
      "metadata": {
        "id": "ybdgiCnyZg8e"
      },
      "source": [
        "---"
      ]
    },
    {
      "cell_type": "markdown",
      "metadata": {
        "id": "c7lr7Bi635pE"
      },
      "source": [
        "#### Activity 1: Bivariate Bar Plots^^\n",
        "\n",
        "So far you have learnt two types of bar plots. They are count plots and histograms. However, they are univariate bar plots because you visualise only one variable (or feature) of a DataFrame at a time in one plot.\n",
        "\n",
        "To visualise two variables (or features) of a DataFrame at a time in one plot, you have to create bivariate bar plots. They are simply referred to as bar plots. Let's visualise the monthly median temperature for the year 2004 by creating a very basic bar plot.\n",
        "\n",
        "Consider the bar (or rectangle) in the image below.\n",
        "\n",
        "<img src='https://student-datasets-bucket.s3.ap-south-1.amazonaws.com/images/matplotlib_rectangle.png' width=600>\n",
        "\n",
        "To create a very basic bar plot, we need:\n",
        "\n",
        "1. The $x$-coordinates of the bars. You can place the bars starting from any coordinate.\n",
        "\n",
        "2. The height of the bars. In this case, the required heights are the median temperature values.\n",
        "\n",
        "3. The width of the bars. It should be a constant value between 0 and 1 (excluding both).\n",
        "\n",
        "  **Note:** If you set the `width` parameter greater than or equal to `1.0`, then two consecutive bars (or rectangles) will overlap (or superimpose). Hence, always create a bar plot having the bars of width less than `1.0` unit.\n",
        "\n",
        "\n",
        "4. Alignment of the bars. By default, the bars are aligned about their centers.\n",
        "\n",
        "**Note:** DataFrames for 2004 and 2005 are grouped by months such that the `Month` column is not an index.\n"
      ]
    },
    {
      "cell_type": "code",
      "metadata": {
        "id": "7UqA0LcsZSUv",
        "colab": {
          "base_uri": "https://localhost:8080/",
          "height": 337
        },
        "outputId": "2bf621c2-57ed-4db3-b438-6278817f7e60"
      },
      "source": [
        "# T1.1 Create a bivariate bar plot to visualise the monthly median temperature variation for the year 2004.\n",
        "import matplotlib.pyplot as plt\n",
        "plt.figure(figsize=(15,5))\n",
        "plt.bar(x=np.arange(3,13), height=group_2004_month.median()[\"T\"], width=0.5)"
      ],
      "execution_count": null,
      "outputs": [
        {
          "output_type": "execute_result",
          "data": {
            "text/plain": [
              "<BarContainer object of 10 artists>"
            ]
          },
          "metadata": {
            "tags": []
          },
          "execution_count": 16
        },
        {
          "output_type": "display_data",
          "data": {
            "image/png": "[encoded data removed]",
            "text/plain": [
              "<Figure size 1080x360 with 1 Axes>"
            ]
          },
          "metadata": {
            "tags": []
          }
        }
      ]
    },
    {
      "cell_type": "markdown",
      "metadata": {
        "id": "NUA8TbuWasPK"
      },
      "source": [
        "As you can see, the month values are plotted on the $x$-axis and the median temperature values for a month on the $y$-axis.\n",
        "\n",
        "All the bars are aligned about the center or midpoint of the bottom edge of the bars.\n",
        "\n",
        "The $x$-coordinate of the midpoint of the bottom edge of the\n",
        "\n",
        "- $1^{\\text{st}}$ bar is $3$\n",
        "- $2^{\\text{nd}}$ bar is $4$\n",
        "- $3^{\\text{rd}}$ bar is $5$\n",
        "\n",
        "  $\\vdots$\n",
        "\n",
        "- $12^{\\text{th}}$ bar is $12$\n",
        "\n",
        "We can place the bars on the $x$-axis starting from $x = 0$."
      ]
    },
    {
      "cell_type": "code",
      "metadata": {
        "id": "NBjE3In8mCfX",
        "colab": {
          "base_uri": "https://localhost:8080/",
          "height": 337
        },
        "outputId": "ec07ca5b-ac30-4d36-c6fd-d853548694a2"
      },
      "source": [
        "# T1.2 Create a bivariate bar plot to visualise the monthly median temperature variation for the year 2004. Start with the x-coordinate equal to 0.\n",
        "import matplotlib.pyplot as plt\n",
        "plt.figure(figsize=(15,5))\n",
        "plt.bar(x=np.arange(10), height=group_2004_month.median()[\"T\"], width=0.5)"
      ],
      "execution_count": null,
      "outputs": [
        {
          "output_type": "execute_result",
          "data": {
            "text/plain": [
              "<BarContainer object of 10 artists>"
            ]
          },
          "metadata": {
            "tags": []
          },
          "execution_count": 17
        },
        {
          "output_type": "display_data",
          "data": {
            "image/png": "[encoded data removed]",
            "text/plain": [
              "<Figure size 1080x360 with 1 Axes>"
            ]
          },
          "metadata": {
            "tags": []
          }
        }
      ]
    },
    {
      "cell_type": "markdown",
      "metadata": {
        "id": "bHLs0A7hp7lL"
      },
      "source": [
        "Let's customise the above plot by replacing the numeric month values with the actual month names, providing title to the plot and labelling the $y$-axis."
      ]
    },
    {
      "cell_type": "code",
      "metadata": {
        "id": "Kbmkl461bEiD",
        "colab": {
          "base_uri": "https://localhost:8080/",
          "height": 320
        },
        "outputId": "a61dd995-72c0-4a0c-cb3f-f17f70c630f0"
      },
      "source": [
        "# S1.1: Customise the above bar plot as per your liking.\n",
        "month2004 = aq_2004_df['DateTime'].dt.month_name().unique()\n",
        "plt.figure(figsize=(15,5))\n",
        "plt.style.use('dark_background')\n",
        "plt.bar(x=np.arange(10), height=group_2004_month.median()[\"T\"], width=0.5)\n",
        "plt.xticks(ticks= np.arange(3,13), labels=month2004)\n",
        "plt.show()"
      ],
      "execution_count": null,
      "outputs": [
        {
          "output_type": "display_data",
          "data": {
            "image/png": "[encoded data removed]",
            "text/plain": [
              "<Figure size 1080x360 with 1 Axes>"
            ]
          },
          "metadata": {
            "tags": []
          }
        }
      ]
    },
    {
      "cell_type": "markdown",
      "metadata": {
        "id": "lgW8MAVNf7g9"
      },
      "source": [
        "Similarly, you can create month wise bar plots for all the air pollutants, temperature, relative and absolute humidity in the DataFrame for the year 2005."
      ]
    },
    {
      "cell_type": "code",
      "metadata": {
        "id": "HPdyAdt2gLDq",
        "colab": {
          "base_uri": "https://localhost:8080/",
          "height": 1000
        },
        "outputId": "fffa5feb-27dd-49f6-e358-b8ba74046d1f"
      },
      "source": [
        "# S1.2 Create month wise bar plots for all the air pollutants, temperature, relative & absolute humidity in the DataFrame for the year 2005.\n",
        "month2005 = aq_2005_df['DateTime'].dt.month_name().unique()\n",
        "for i in group_2005_month.median().iloc[:, :-2]:\n",
        "\n",
        "  plt.figure(figsize=(15,5))\n",
        "  plt.style.use('dark_background')\n",
        "  plt.bar(x=np.arange(1,5), height=group_2005_month.median()[i], width=0.5)\n",
        "  plt.xticks(ticks= np.arange(1,5), labels=month2005)\n",
        "  plt.show()"
      ],
      "execution_count": null,
      "outputs": [
        {
          "output_type": "display_data",
          "data": {
            "image/png": "[encoded data removed]",
            "text/plain": [
              "<Figure size 1080x360 with 1 Axes>"
            ]
          },
          "metadata": {
            "tags": []
          }
        },
        {
          "output_type": "display_data",
          "data": {
            "image/png": "[encoded data removed]",
            "text/plain": [
              "<Figure size 1080x360 with 1 Axes>"
            ]
          },
          "metadata": {
            "tags": []
          }
        },
        {
          "output_type": "display_data",
          "data": {
            "image/png": "[encoded data removed]",
            "text/plain": [
              "<Figure size 1080x360 with 1 Axes>"
            ]
          },
          "metadata": {
            "tags": []
          }
        },
        {
          "output_type": "display_data",
          "data": {
            "image/png": "[encoded data removed]",
            "text/plain": [
              "<Figure size 1080x360 with 1 Axes>"
            ]
          },
          "metadata": {
            "tags": []
          }
        },
        {
          "output_type": "display_data",
          "data": {
            "image/png": "[encoded data removed]",
            "text/plain": [
              "<Figure size 1080x360 with 1 Axes>"
            ]
          },
          "metadata": {
            "tags": []
          }
        },
        {
          "output_type": "display_data",
          "data": {
            "image/png": "[encoded data removed]",
            "text/plain": [
              "<Figure size 1080x360 with 1 Axes>"
            ]
          },
          "metadata": {
            "tags": []
          }
        },
        {
          "output_type": "display_data",
          "data": {
            "image/png": "[encoded data removed]",
            "text/plain": [
              "<Figure size 1080x360 with 1 Axes>"
            ]
          },
          "metadata": {
            "tags": []
          }
        },
        {
          "output_type": "display_data",
          "data": {
            "image/png": "[encoded data removed]",
            "text/plain": [
              "<Figure size 1080x360 with 1 Axes>"
            ]
          },
          "metadata": {
            "tags": []
          }
        },
        {
          "output_type": "display_data",
          "data": {
            "image/png": "[encoded data removed]",
            "text/plain": [
              "<Figure size 1080x360 with 1 Axes>"
            ]
          },
          "metadata": {
            "tags": []
          }
        }
      ]
    },
    {
      "cell_type": "markdown",
      "metadata": {
        "id": "vDu4y24cgfGf"
      },
      "source": [
        "Let's create a bar plot for both the DataFrames to compare the monthly median temperature variation in 2004 and 2005. Make sure you enable legends to differentiate between the bars for 2004 and 2005."
      ]
    },
    {
      "cell_type": "code",
      "metadata": {
        "id": "yY0mJOaXgk02",
        "colab": {
          "base_uri": "https://localhost:8080/",
          "height": 337
        },
        "outputId": "4ebae6c2-7a31-44d1-b385-758cb4afd25d"
      },
      "source": [
        "# S1.3: Create a bar plot for both the DataFrames to compare the monthly median temperature variation in 2004 and 2005.\n",
        "plt.figure(figsize=(15,5))\n",
        "plt.bar(x=np.arange(3,13), height=group_2004_month.median()[\"T\"], width=0.5)\n",
        "plt.bar(x=np.arange(1,5), height=group_2005_month.median()[\"T\"], width=0.5)"
      ],
      "execution_count": null,
      "outputs": [
        {
          "output_type": "execute_result",
          "data": {
            "text/plain": [
              "<BarContainer object of 4 artists>"
            ]
          },
          "metadata": {
            "tags": []
          },
          "execution_count": 27
        },
        {
          "output_type": "display_data",
          "data": {
            "image/png": "[encoded data removed]",
            "text/plain": [
              "<Figure size 1080x360 with 1 Axes>"
            ]
          },
          "metadata": {
            "tags": []
          }
        }
      ]
    },
    {
      "cell_type": "markdown",
      "metadata": {
        "id": "jS4q9Q20hYAG"
      },
      "source": [
        "As you can see the bars are in different colours but they overlap (or superimpose). Let's plot the bars side-by-side (or adjacent) to each other for each month."
      ]
    },
    {
      "cell_type": "code",
      "metadata": {
        "id": "_cvyBC6XhiXI",
        "colab": {
          "base_uri": "https://localhost:8080/",
          "height": 337
        },
        "outputId": "4735dbbb-a837-4cd5-f71d-0428a8827dde"
      },
      "source": [
        "# T1.3: Create a bar plot for both the DataFrames to compare the monthly median temperature variation in 2004 and 2005\n",
        "# such that bars for a month for two different years are adjacent to each other.\n",
        "plt.figure(figsize=(15,5))\n",
        "plt.bar(x=np.arange(3,13)-0.4/2, height=group_2004_month.median()[\"T\"], width=0.5)\n",
        "plt.bar(x=np.arange(1,5)+0.4/2, height=group_2005_month.median()[\"T\"], width=0.5)\n",
        "\n"
      ],
      "execution_count": null,
      "outputs": [
        {
          "output_type": "execute_result",
          "data": {
            "text/plain": [
              "<BarContainer object of 4 artists>"
            ]
          },
          "metadata": {
            "tags": []
          },
          "execution_count": 28
        },
        {
          "output_type": "display_data",
          "data": {
            "image/png": "[encoded data removed]",
            "text/plain": [
              "<Figure size 1080x360 with 1 Axes>"
            ]
          },
          "metadata": {
            "tags": []
          }
        }
      ]
    },
    {
      "cell_type": "markdown",
      "metadata": {
        "id": "xYG2MtK47KFI"
      },
      "source": [
        "The process of aligning the bars adjacently in the same bar chart for a same variable (or feature) but different values is called shifting of bars."
      ]
    },
    {
      "cell_type": "markdown",
      "metadata": {
        "id": "hPJlU8fnuOc1"
      },
      "source": [
        "---"
      ]
    },
    {
      "cell_type": "markdown",
      "metadata": {
        "id": "tJizjApDD6u6"
      },
      "source": [
        "#### Activity 2: Horizontal Bivariate Bar Plots^^^\n",
        "\n",
        "So far we have learnt how to create bar plots in the vertical orientation. We can create the exact same bar plots in the horizontal orientation as well using the `barh()` function. You just have to replace the $x$-coordinates with the $y$-coordinates, replace `xticks` with `yticks` and interchange the values of the `height` and `width` parameters.\n"
      ]
    },
    {
      "cell_type": "code",
      "metadata": {
        "id": "h_tdO0xDEzoX",
        "colab": {
          "base_uri": "https://localhost:8080/",
          "height": 500
        },
        "outputId": "4800c97b-5f67-47a4-cf43-60fff1222bb7"
      },
      "source": [
        "# S2.1 Create a horizontal bar plot to visualise the monthly median temperature variation in 2004.\n",
        "plt.figure(figsize=(6,8))\n",
        "plt.barh(y=np.arange(3,13), width=group_2004_month.median()[\"T\"], height=0.6)"
      ],
      "execution_count": null,
      "outputs": [
        {
          "output_type": "execute_result",
          "data": {
            "text/plain": [
              "<BarContainer object of 10 artists>"
            ]
          },
          "metadata": {
            "tags": []
          },
          "execution_count": 29
        },
        {
          "output_type": "display_data",
          "data": {
            "image/png": "[encoded data removed]",
            "text/plain": [
              "<Figure size 432x576 with 1 Axes>"
            ]
          },
          "metadata": {
            "tags": []
          }
        }
      ]
    },
    {
      "cell_type": "code",
      "metadata": {
        "id": "w_jSOiAyH6O8",
        "colab": {
          "base_uri": "https://localhost:8080/",
          "height": 500
        },
        "outputId": "96647943-3e5f-49bc-ee18-706479132c8a"
      },
      "source": [
        "# S2.2: Create a horizontal bar plot for both the DataFrames to compare the monthly median temperature variation in 2004 and 2005\n",
        "# such that bars for a month for two different years are adjacent to each other.\n",
        "plt.figure(figsize=(6,8))\n",
        "plt.barh(y=np.arange(3,13)-0.4, width=group_2004_month.median()[\"T\"], height=0.4, align='center')\n",
        "plt.barh(y=np.arange(1,5)+0.4/2, width=group_2005_month.median()[\"T\"], height=0.4, align='center')"
      ],
      "execution_count": null,
      "outputs": [
        {
          "output_type": "execute_result",
          "data": {
            "text/plain": [
              "<BarContainer object of 4 artists>"
            ]
          },
          "metadata": {
            "tags": []
          },
          "execution_count": 35
        },
        {
          "output_type": "display_data",
          "data": {
            "image/png": "[encoded data removed]",
            "text/plain": [
              "<Figure size 432x576 with 1 Axes>"
            ]
          },
          "metadata": {
            "tags": []
          }
        }
      ]
    },
    {
      "cell_type": "markdown",
      "metadata": {
        "id": "gpFYEdCtD5cA"
      },
      "source": [
        "---"
      ]
    },
    {
      "cell_type": "markdown",
      "metadata": {
        "id": "5tv0j4OndF3I"
      },
      "source": [
        "#### Activity 3: Bar Plots Using `seaborn` Module^\n",
        "\n",
        "In addition to using the `bar` function of the `matplotlib` module, you can use the `barplot()` function of the `seaborn` module as well to create a bar plot.\n",
        "\n",
        "The bars in the `seaborn` bar plots have fixed indices. The position of each bar begins from `index = 0` such that the midpoint of the bottom edge of a bar lies at the index value on the $x$-axis."
      ]
    },
    {
      "cell_type": "code",
      "metadata": {
        "id": "jeNvWX2EgFNa",
        "colab": {
          "base_uri": "https://localhost:8080/",
          "height": 1000
        },
        "outputId": "4026d676-2ff6-409a-8713-cbc814a80047"
      },
      "source": [
        "# T3.1 Create a bar plot to visualise monthly median temperature variation in 2004 using the 'barplot()' function.\n",
        "plt.figure(figsize=(15,5))\n",
        "sns.barplot(x=np.arange(10), y = 'T', data=group_2004_month.median())\n"
      ],
      "execution_count": null,
      "outputs": [
        {
          "output_type": "execute_result",
          "data": {
            "text/plain": [
              "<matplotlib.axes._subplots.AxesSubplot at 0x7ff336a71210>"
            ]
          },
          "metadata": {
            "tags": []
          },
          "execution_count": 39
        },
        {
          "output_type": "display_data",
          "data": {
            "image/png": "[encoded data removed]",
            "text/plain": [
              "<Figure size 1080x360 with 1 Axes>"
            ]
          },
          "metadata": {
            "tags": []
          }
        },
        {
          "output_type": "display_data",
          "data": {
            "image/png": "[encoded data removed]",
            "text/plain": [
              "<Figure size 216x936 with 1 Axes>"
            ]
          },
          "metadata": {
            "tags": []
          }
        }
      ]
    },
    {
      "cell_type": "markdown",
      "metadata": {
        "id": "rL8MxO95pxLc"
      },
      "source": [
        "You can mask the bar indices with other values on the $x$-axis. E.g., you can display\n",
        "\n",
        "- the index of the first bar with $x = 3$ instead of $x = 0$\n",
        "\n",
        "- the index of the second bar with $x = 4$ instead of $x = 1$\n",
        "\n",
        "- the index of the second bar with $x = 5$ instead of $x = 2$\n",
        "\n",
        "  $\\vdots$\n",
        "\n",
        "- the index of the twelfth bar with $x = 12$ instead of $x = 9$"
      ]
    },
    {
      "cell_type": "code",
      "metadata": {
        "id": "qsCjCrKTp6_r",
        "colab": {
          "base_uri": "https://localhost:8080/",
          "height": 337
        },
        "outputId": "8c6e64f7-1279-461f-be61-0fa809b23ae6"
      },
      "source": [
        "# S3.1: Replace the bar indices in the above chart with the values starting from x = 3.\n",
        "plt.figure(figsize=(15,5))\n",
        "sns.barplot(x=np.arange(3,13), y = 'T', data=group_2004_month.median())"
      ],
      "execution_count": null,
      "outputs": [
        {
          "output_type": "execute_result",
          "data": {
            "text/plain": [
              "<matplotlib.axes._subplots.AxesSubplot at 0x7ff3369ffc90>"
            ]
          },
          "metadata": {
            "tags": []
          },
          "execution_count": 40
        },
        {
          "output_type": "display_data",
          "data": {
            "image/png": "[encoded data removed]",
            "text/plain": [
              "<Figure size 1080x360 with 1 Axes>"
            ]
          },
          "metadata": {
            "tags": []
          }
        }
      ]
    },
    {
      "cell_type": "markdown",
      "metadata": {
        "id": "OgGmbi5DajDS"
      },
      "source": [
        "We can directly mask the indices of the bar plots with the actual month names."
      ]
    },
    {
      "cell_type": "code",
      "metadata": {
        "id": "2aj9pGtVdZMA",
        "colab": {
          "base_uri": "https://localhost:8080/",
          "height": 337
        },
        "outputId": "d83a265c-d53c-4004-99aa-2c914be71365"
      },
      "source": [
        "# S3.2: Replace the bar indices in the above chart with the actual month names\n",
        "plt.figure(figsize=(15,5))\n",
        "sns.barplot(x=month2004, y = 'T', data=group_2004_month.median())"
      ],
      "execution_count": null,
      "outputs": [
        {
          "output_type": "execute_result",
          "data": {
            "text/plain": [
              "<matplotlib.axes._subplots.AxesSubplot at 0x7ff336a843d0>"
            ]
          },
          "metadata": {
            "tags": []
          },
          "execution_count": 41
        },
        {
          "output_type": "display_data",
          "data": {
            "image/png": "[encoded data removed]",
            "text/plain": [
              "<Figure size 1080x360 with 1 Axes>"
            ]
          },
          "metadata": {
            "tags": []
          }
        }
      ]
    },
    {
      "cell_type": "markdown",
      "metadata": {
        "id": "_Srv1dsXarHf"
      },
      "source": [
        "We can create bar plots using the `barplot()` function for a DataFrame without applying the grouping and aggregation functions. We just have to ensure that\n",
        "\n",
        "- the input value to the `x` parameter should be the series (or column) that needs to be plotted on the $x$-axis.\n",
        "\n",
        "- the input value to the `y` parameter should be the series (or column) that needs to be plotted on the $y$-axis.\n",
        "\n",
        "- the input value to the `data` parameter should be the DataFrame containing the above two series (or columns) that need to be plotted on the coordinate axes.\n"
      ]
    },
    {
      "cell_type": "code",
      "metadata": {
        "id": "Sn-wEu_4fn4B",
        "colab": {
          "base_uri": "https://localhost:8080/",
          "height": 351
        },
        "outputId": "45b93f29-bb5b-49b4-d088-6badd06ee678"
      },
      "source": [
        "# S3.3: Without applying the grouping & aggregation operations, create a bar plot to visualise monthly mean temperature variation in 2004.\n",
        "plt.figure(figsize = (15,5))\n",
        "sns.barplot(x='Month', y=\"T\", data=df[df[\"Year\"]==2004])"
      ],
      "execution_count": null,
      "outputs": [
        {
          "output_type": "execute_result",
          "data": {
            "text/plain": [
              "<matplotlib.axes._subplots.AxesSubplot at 0x7ff336e50490>"
            ]
          },
          "metadata": {
            "tags": []
          },
          "execution_count": 44
        },
        {
          "output_type": "display_data",
          "data": {
            "image/png": "[encoded data removed]",
            "text/plain": [
              "<Figure size 1080x360 with 1 Axes>"
            ]
          },
          "metadata": {
            "tags": []
          }
        }
      ]
    },
    {
      "cell_type": "markdown",
      "metadata": {
        "id": "lyYoY8WzbMy6"
      },
      "source": [
        "The `barplot()` function of the `seaborn` module by default plots the mean values. If you want to plot the median value then pass the `median` attribute to the `estimator` parameter inside the `barplot()` function. To use the `median` attribute, you have to first import it from the `numpy` module."
      ]
    },
    {
      "cell_type": "code",
      "metadata": {
        "id": "rm-8rqf_ivz_",
        "colab": {
          "base_uri": "https://localhost:8080/",
          "height": 358
        },
        "outputId": "bc0cf1fa-7b78-4f8d-b4ae-c25147cfba6c"
      },
      "source": [
        "# S3.4: Replace the bar indices in the above chart with the actual month names.\n",
        "plt.figure(figsize = (15,5))\n",
        "sns.barplot(x='Month', y=\"T\", data=df[\"Month\"].median())"
      ],
      "execution_count": null,
      "outputs": [
        {
          "output_type": "error",
          "ename": "AttributeError",
          "evalue": "ignored",
          "traceback": [
            "\u001b[0;31m---------------------------------------------------------------------------\u001b[0m",
            "\u001b[0;31mAttributeError\u001b[0m                            Traceback (most recent call last)",
            "\u001b[0;32m<ipython-input-46-cca28f1da0b5>\u001b[0m in \u001b[0;36m<module>\u001b[0;34m()\u001b[0m\n\u001b[1;32m      1\u001b[0m \u001b[0;31m# S3.4: Replace the bar indices in the above chart with the actual month names.\u001b[0m\u001b[0;34m\u001b[0m\u001b[0;34m\u001b[0m\u001b[0;34m\u001b[0m\u001b[0m\n\u001b[1;32m      2\u001b[0m \u001b[0mplt\u001b[0m\u001b[0;34m.\u001b[0m\u001b[0mfigure\u001b[0m\u001b[0;34m(\u001b[0m\u001b[0mfigsize\u001b[0m \u001b[0;34m=\u001b[0m \u001b[0;34m(\u001b[0m\u001b[0;36m15\u001b[0m\u001b[0;34m,\u001b[0m\u001b[0;36m5\u001b[0m\u001b[0;34m)\u001b[0m\u001b[0;34m)\u001b[0m\u001b[0;34m\u001b[0m\u001b[0;34m\u001b[0m\u001b[0m\n\u001b[0;32m----> 3\u001b[0;31m \u001b[0msns\u001b[0m\u001b[0;34m.\u001b[0m\u001b[0mbarplot\u001b[0m\u001b[0;34m(\u001b[0m\u001b[0mx\u001b[0m\u001b[0;34m=\u001b[0m\u001b[0;34m'Month'\u001b[0m\u001b[0;34m,\u001b[0m \u001b[0my\u001b[0m\u001b[0;34m=\u001b[0m\u001b[0;34m\"T\"\u001b[0m\u001b[0;34m,\u001b[0m \u001b[0mdata\u001b[0m\u001b[0;34m=\u001b[0m\u001b[0mdf\u001b[0m\u001b[0;34m[\u001b[0m\u001b[0;34m\"Month\"\u001b[0m\u001b[0;34m]\u001b[0m\u001b[0;34m.\u001b[0m\u001b[0mmedian\u001b[0m\u001b[0;34m(\u001b[0m\u001b[0;34m)\u001b[0m\u001b[0;34m)\u001b[0m\u001b[0;34m\u001b[0m\u001b[0;34m\u001b[0m\u001b[0m\n\u001b[0m",
            "\u001b[0;32m/usr/local/lib/python3.7/dist-packages/seaborn/_decorators.py\u001b[0m in \u001b[0;36minner_f\u001b[0;34m(*args, **kwargs)\u001b[0m\n\u001b[1;32m     44\u001b[0m             )\n\u001b[1;32m     45\u001b[0m         \u001b[0mkwargs\u001b[0m\u001b[0;34m.\u001b[0m\u001b[0mupdate\u001b[0m\u001b[0;34m(\u001b[0m\u001b[0;34m{\u001b[0m\u001b[0mk\u001b[0m\u001b[0;34m:\u001b[0m \u001b[0marg\u001b[0m \u001b[0;32mfor\u001b[0m \u001b[0mk\u001b[0m\u001b[0;34m,\u001b[0m \u001b[0marg\u001b[0m \u001b[0;32min\u001b[0m \u001b[0mzip\u001b[0m\u001b[0;34m(\u001b[0m\u001b[0msig\u001b[0m\u001b[0;34m.\u001b[0m\u001b[0mparameters\u001b[0m\u001b[0;34m,\u001b[0m \u001b[0margs\u001b[0m\u001b[0;34m)\u001b[0m\u001b[0;34m}\u001b[0m\u001b[0;34m)\u001b[0m\u001b[0;34m\u001b[0m\u001b[0;34m\u001b[0m\u001b[0m\n\u001b[0;32m---> 46\u001b[0;31m         \u001b[0;32mreturn\u001b[0m \u001b[0mf\u001b[0m\u001b[0;34m(\u001b[0m\u001b[0;34m**\u001b[0m\u001b[0mkwargs\u001b[0m\u001b[0;34m)\u001b[0m\u001b[0;34m\u001b[0m\u001b[0;34m\u001b[0m\u001b[0m\n\u001b[0m\u001b[1;32m     47\u001b[0m     \u001b[0;32mreturn\u001b[0m \u001b[0minner_f\u001b[0m\u001b[0;34m\u001b[0m\u001b[0;34m\u001b[0m\u001b[0m\n\u001b[1;32m     48\u001b[0m \u001b[0;34m\u001b[0m\u001b[0m\n",
            "\u001b[0;32m/usr/local/lib/python3.7/dist-packages/seaborn/categorical.py\u001b[0m in \u001b[0;36mbarplot\u001b[0;34m(x, y, hue, data, order, hue_order, estimator, ci, n_boot, units, seed, orient, color, palette, saturation, errcolor, errwidth, capsize, dodge, ax, **kwargs)\u001b[0m\n\u001b[1;32m   3180\u001b[0m                           \u001b[0mestimator\u001b[0m\u001b[0;34m,\u001b[0m \u001b[0mci\u001b[0m\u001b[0;34m,\u001b[0m \u001b[0mn_boot\u001b[0m\u001b[0;34m,\u001b[0m \u001b[0munits\u001b[0m\u001b[0;34m,\u001b[0m \u001b[0mseed\u001b[0m\u001b[0;34m,\u001b[0m\u001b[0;34m\u001b[0m\u001b[0;34m\u001b[0m\u001b[0m\n\u001b[1;32m   3181\u001b[0m                           \u001b[0morient\u001b[0m\u001b[0;34m,\u001b[0m \u001b[0mcolor\u001b[0m\u001b[0;34m,\u001b[0m \u001b[0mpalette\u001b[0m\u001b[0;34m,\u001b[0m \u001b[0msaturation\u001b[0m\u001b[0;34m,\u001b[0m\u001b[0;34m\u001b[0m\u001b[0;34m\u001b[0m\u001b[0m\n\u001b[0;32m-> 3182\u001b[0;31m                           errcolor, errwidth, capsize, dodge)\n\u001b[0m\u001b[1;32m   3183\u001b[0m \u001b[0;34m\u001b[0m\u001b[0m\n\u001b[1;32m   3184\u001b[0m     \u001b[0;32mif\u001b[0m \u001b[0max\u001b[0m \u001b[0;32mis\u001b[0m \u001b[0;32mNone\u001b[0m\u001b[0;34m:\u001b[0m\u001b[0;34m\u001b[0m\u001b[0;34m\u001b[0m\u001b[0m\n",
            "\u001b[0;32m/usr/local/lib/python3.7/dist-packages/seaborn/categorical.py\u001b[0m in \u001b[0;36m__init__\u001b[0;34m(self, x, y, hue, data, order, hue_order, estimator, ci, n_boot, units, seed, orient, color, palette, saturation, errcolor, errwidth, capsize, dodge)\u001b[0m\n\u001b[1;32m   1583\u001b[0m         \u001b[0;34m\"\"\"Initialize the plotter.\"\"\"\u001b[0m\u001b[0;34m\u001b[0m\u001b[0;34m\u001b[0m\u001b[0m\n\u001b[1;32m   1584\u001b[0m         self.establish_variables(x, y, hue, data, orient,\n\u001b[0;32m-> 1585\u001b[0;31m                                  order, hue_order, units)\n\u001b[0m\u001b[1;32m   1586\u001b[0m         \u001b[0mself\u001b[0m\u001b[0;34m.\u001b[0m\u001b[0mestablish_colors\u001b[0m\u001b[0;34m(\u001b[0m\u001b[0mcolor\u001b[0m\u001b[0;34m,\u001b[0m \u001b[0mpalette\u001b[0m\u001b[0;34m,\u001b[0m \u001b[0msaturation\u001b[0m\u001b[0;34m)\u001b[0m\u001b[0;34m\u001b[0m\u001b[0;34m\u001b[0m\u001b[0m\n\u001b[1;32m   1587\u001b[0m         \u001b[0mself\u001b[0m\u001b[0;34m.\u001b[0m\u001b[0mestimate_statistic\u001b[0m\u001b[0;34m(\u001b[0m\u001b[0mestimator\u001b[0m\u001b[0;34m,\u001b[0m \u001b[0mci\u001b[0m\u001b[0;34m,\u001b[0m \u001b[0mn_boot\u001b[0m\u001b[0;34m,\u001b[0m \u001b[0mseed\u001b[0m\u001b[0;34m)\u001b[0m\u001b[0;34m\u001b[0m\u001b[0;34m\u001b[0m\u001b[0m\n",
            "\u001b[0;32m/usr/local/lib/python3.7/dist-packages/seaborn/categorical.py\u001b[0m in \u001b[0;36mestablish_variables\u001b[0;34m(self, x, y, hue, data, orient, order, hue_order, units)\u001b[0m\n\u001b[1;32m    142\u001b[0m             \u001b[0;31m# See if we need to get variables from `data`\u001b[0m\u001b[0;34m\u001b[0m\u001b[0;34m\u001b[0m\u001b[0;34m\u001b[0m\u001b[0m\n\u001b[1;32m    143\u001b[0m             \u001b[0;32mif\u001b[0m \u001b[0mdata\u001b[0m \u001b[0;32mis\u001b[0m \u001b[0;32mnot\u001b[0m \u001b[0;32mNone\u001b[0m\u001b[0;34m:\u001b[0m\u001b[0;34m\u001b[0m\u001b[0;34m\u001b[0m\u001b[0m\n\u001b[0;32m--> 144\u001b[0;31m                 \u001b[0mx\u001b[0m \u001b[0;34m=\u001b[0m \u001b[0mdata\u001b[0m\u001b[0;34m.\u001b[0m\u001b[0mget\u001b[0m\u001b[0;34m(\u001b[0m\u001b[0mx\u001b[0m\u001b[0;34m,\u001b[0m \u001b[0mx\u001b[0m\u001b[0;34m)\u001b[0m\u001b[0;34m\u001b[0m\u001b[0;34m\u001b[0m\u001b[0m\n\u001b[0m\u001b[1;32m    145\u001b[0m                 \u001b[0my\u001b[0m \u001b[0;34m=\u001b[0m \u001b[0mdata\u001b[0m\u001b[0;34m.\u001b[0m\u001b[0mget\u001b[0m\u001b[0;34m(\u001b[0m\u001b[0my\u001b[0m\u001b[0;34m,\u001b[0m \u001b[0my\u001b[0m\u001b[0;34m)\u001b[0m\u001b[0;34m\u001b[0m\u001b[0;34m\u001b[0m\u001b[0m\n\u001b[1;32m    146\u001b[0m                 \u001b[0mhue\u001b[0m \u001b[0;34m=\u001b[0m \u001b[0mdata\u001b[0m\u001b[0;34m.\u001b[0m\u001b[0mget\u001b[0m\u001b[0;34m(\u001b[0m\u001b[0mhue\u001b[0m\u001b[0;34m,\u001b[0m \u001b[0mhue\u001b[0m\u001b[0;34m)\u001b[0m\u001b[0;34m\u001b[0m\u001b[0;34m\u001b[0m\u001b[0m\n",
            "\u001b[0;31mAttributeError\u001b[0m: 'float' object has no attribute 'get'"
          ]
        },
        {
          "output_type": "display_data",
          "data": {
            "text/plain": [
              "<Figure size 1080x360 with 0 Axes>"
            ]
          },
          "metadata": {
            "tags": []
          }
        }
      ]
    },
    {
      "cell_type": "markdown",
      "metadata": {
        "id": "ZMn6nNaVbu8t"
      },
      "source": [
        "We can also split the bars about the year values (in general any categorical value) by passing the `Year` column as a value to the `hue` parameter."
      ]
    },
    {
      "cell_type": "code",
      "metadata": {
        "id": "3ohsE7Ohe2Vp"
      },
      "source": [
        "# S3.5: Create a bar plot to compare the monthly median temperature variation in 2004 and 2005\n",
        "# such that the bars for a month for two different years are adjacent to each other.\n"
      ],
      "execution_count": null,
      "outputs": []
    },
    {
      "cell_type": "markdown",
      "metadata": {
        "id": "k9RFznwN2sv5"
      },
      "source": [
        "One of the great advantages of the `seaborn` functions is that you don't have to specify the `label` parameter to create the legends to distinguish between the plots for different values. The `seaborn` module functions automatically create them. However, while the `seaborn` plots provide convenience, the `matplotlib` plots provide more control. The `seaborn` plots offer plots specifically for the field of statistics whereas the `matplotlib` plot offers plots for wider domains. Remember that the `seaborn` plots behind the scenes are actually pre-configured `matplotlib` plots.\n",
        "\n",
        "\n",
        "**The Horizontal Bar Plot**\n",
        "\n",
        "You can also create a horizontal bar plot using the `barplot()` function. You just need to plot the categorical (or discrete numeric values & string) values on the $y$-axis and pass the `h` attribute as an input to the `orient` parameter."
      ]
    },
    {
      "cell_type": "code",
      "metadata": {
        "id": "wxXNWGrFjxAv"
      },
      "source": [
        "# T3.2: Create a horizontal bar plot bar to visualise the monthly median temperature variation in 2004 and 2005 in the same chart.\n"
      ],
      "execution_count": null,
      "outputs": []
    },
    {
      "cell_type": "markdown",
      "metadata": {
        "id": "e435K3G84OWO"
      },
      "source": [
        "**Conversion Into Categorical Values**\n",
        "\n",
        "If you have a Pandas series containing discrete numeric values, i.e., (1, 2, 3 ...) then you can convert them into categorical values by using the `astype` function and passing `'category'` as an input to the function."
      ]
    },
    {
      "cell_type": "code",
      "metadata": {
        "id": "tkdSkLYDk1hC"
      },
      "source": [
        "# T3.3: Convert the 'Month' values in the 'df' DataFrame into categorical values.\n"
      ],
      "execution_count": null,
      "outputs": []
    },
    {
      "cell_type": "code",
      "metadata": {
        "id": "Q-68k9velZ1D"
      },
      "source": [
        "# T3.4: Create the above bar plot without using the 'orient' parameter.\n"
      ],
      "execution_count": null,
      "outputs": []
    },
    {
      "cell_type": "markdown",
      "metadata": {
        "id": "Hfr6qvrw5SJA"
      },
      "source": [
        "That's it. We have covered the most important aspects of the bar plots in this class. In the next class, we will learn correlation.\n",
        "\n",
        "**Note:** You may now attempt **Project 12**."
      ]
    },
    {
      "cell_type": "markdown",
      "metadata": {
        "id": "xGyByo04dFRp"
      },
      "source": [
        "---"
      ]
    }
  ]
}